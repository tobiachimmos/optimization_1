{
 "cells": [
  {
   "cell_type": "code",
   "execution_count": 1,
   "metadata": {},
   "outputs": [],
   "source": [
    "using Pkg\n",
    "using JuMP, GLPK;"
   ]
  },
  {
   "cell_type": "code",
   "execution_count": 2,
   "metadata": {},
   "outputs": [],
   "source": [
    "m = Model(with_optimizer(GLPK.Optimizer));"
   ]
  },
  {
   "cell_type": "code",
   "execution_count": 3,
   "metadata": {},
   "outputs": [],
   "source": [
    "@variable(m, x1 >=0);\n",
    "@variable(m, x2 >=0);\n",
    "@variable(m, x3 >=0);\n",
    "@variable(m, x4 >=0);\n",
    "@variable(m, x5 >=0);\n",
    "@variable(m, x6 >=0);"
   ]
  },
  {
   "cell_type": "code",
   "execution_count": 4,
   "metadata": {},
   "outputs": [
    {
     "data": {
      "text/latex": [
       "$$ 21 x1 + 22.5 x2 + 22.5 x3 + 24.5 x4 + 23 x5 + 25.5 x6 $$"
      ],
      "text/plain": [
       "21 x1 + 22.5 x2 + 22.5 x3 + 24.5 x4 + 23 x5 + 25.5 x6"
      ]
     },
     "execution_count": 4,
     "metadata": {},
     "output_type": "execute_result"
    }
   ],
   "source": [
    "@objective(m, Min, 21x1 + 22.5x2 + 22.50x3 + 24.50x4 + 23x5 + 25.50x6)"
   ]
  },
  {
   "cell_type": "code",
   "execution_count": 5,
   "metadata": {},
   "outputs": [
    {
     "data": {
      "text/latex": [
       "constraint5 : $ x2 + x4 + x6 \\geq 450.0 $"
      ],
      "text/plain": [
       "constraint5 : x2 + x4 + x6 ≥ 450.0"
      ]
     },
     "execution_count": 5,
     "metadata": {},
     "output_type": "execute_result"
    }
   ],
   "source": [
    "@constraint(m, constraint1, x1 + x2 <= 425)\n",
    "@constraint(m, constraint2, x3 + x4 <= 400)\n",
    "@constraint(m, constraint3, x5 + x6 <= 750)\n",
    "@constraint(m, constraint4, x1 + x3 + x5 >= 550)\n",
    "@constraint(m, constraint5, x2 + x4 + x6 >= 450)"
   ]
  },
  {
   "cell_type": "code",
   "execution_count": 6,
   "metadata": {},
   "outputs": [
    {
     "name": "stdout",
     "output_type": "stream",
     "text": [
      "Min 21 x1 + 22.5 x2 + 22.5 x3 + 24.5 x4 + 23 x5 + 25.5 x6\n",
      "Subject to\n",
      " constraint4 : x1 + x3 + x5 ≥ 550.0\n",
      " constraint5 : x2 + x4 + x6 ≥ 450.0\n",
      " constraint1 : x1 + x2 ≤ 425.0\n",
      " constraint2 : x3 + x4 ≤ 400.0\n",
      " constraint3 : x5 + x6 ≤ 750.0\n",
      " x1 ≥ 0.0\n",
      " x2 ≥ 0.0\n",
      " x3 ≥ 0.0\n",
      " x4 ≥ 0.0\n",
      " x5 ≥ 0.0\n",
      " x6 ≥ 0.0\n"
     ]
    }
   ],
   "source": [
    "print(m)"
   ]
  },
  {
   "cell_type": "code",
   "execution_count": 7,
   "metadata": {},
   "outputs": [],
   "source": [
    "optimize!(m)"
   ]
  },
  {
   "cell_type": "code",
   "execution_count": 8,
   "metadata": {},
   "outputs": [
    {
     "data": {
      "text/plain": [
       "OPTIMAL::TerminationStatusCode = 1"
      ]
     },
     "execution_count": 8,
     "metadata": {},
     "output_type": "execute_result"
    }
   ],
   "source": [
    "termination_status(m)"
   ]
  },
  {
   "cell_type": "code",
   "execution_count": 9,
   "metadata": {},
   "outputs": [
    {
     "name": "stdout",
     "output_type": "stream",
     "text": [
      "Optimal Solutions:\n",
      "x1 = 0.0\n",
      "x2 = 425.0\n",
      "x3 = 375.0\n",
      "x4 = 25.0\n",
      "x5 = 175.0\n",
      "x6 = 0.0\n"
     ]
    }
   ],
   "source": [
    "println(\"Optimal Solutions:\")\n",
    "println(\"x1 = \", value(x1))\n",
    "println(\"x2 = \", value(x2))\n",
    "println(\"x3 = \", value(x3))\n",
    "println(\"x4 = \", value(x4))\n",
    "println(\"x5 = \", value(x5))\n",
    "println(\"x6 = \", value(x6))"
   ]
  },
  {
   "cell_type": "code",
   "execution_count": 10,
   "metadata": {},
   "outputs": [
    {
     "data": {
      "text/plain": [
       "22637.5"
      ]
     },
     "execution_count": 10,
     "metadata": {},
     "output_type": "execute_result"
    }
   ],
   "source": [
    "value(21x1 + 22.5x2 + 22.50x3 + 24.50x4 + 23x5 + 25.50x6)"
   ]
  },
  {
   "cell_type": "code",
   "execution_count": null,
   "metadata": {},
   "outputs": [],
   "source": []
  }
 ],
 "metadata": {
  "kernelspec": {
   "display_name": "Julia 1.5.3",
   "language": "julia",
   "name": "julia-1.5"
  },
  "language_info": {
   "file_extension": ".jl",
   "mimetype": "application/julia",
   "name": "julia",
   "version": "1.5.3"
  }
 },
 "nbformat": 4,
 "nbformat_minor": 4
}
