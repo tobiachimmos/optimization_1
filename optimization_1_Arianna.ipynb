{
 "cells": [
  {
   "cell_type": "markdown",
   "metadata": {},
   "source": [
    "# Problema\n",
    "\n",
    "GoNuts produce diversi succhi realizzati interamente con varie noci esotiche. Il loro mercato principale è la Cina. \n",
    "Gestiscono tre stabilimenti, situati in Etiopia, Tanzania e Nigeria. \n",
    "Si vuole determinare dove produrre i due più recenti succhi che offrono, Gingko Nut e Kola Nut, considerando che ogni impianto ha una diversa capacità di produzione dei diversi succhi. \n",
    "Il costo fisso si applica solo se la fabbrica produce succo. \n",
    "Inoltre, ogni succo ha una domanda prevista. \n",
    "Quanto di ogni succo dovrebbe essere prodotto in ogni impianto per ridurre al minimo il costo totale, soddisfacendo la domanda e rispettando la capacità dell'impianto?\n",
    "\n",
    "\n",
    "|Costo/Unità |Ginko|Kola|             Capacità Mensile Impianto|\n",
    "| --- | --- | --- | ---|\n",
    "|Ethiopia|21.00 dol| 22.50 dol| &emsp;&emsp;&emsp;&emsp;&emsp;   425|\n",
    "|Tanzania|22.50 dol| 24.50 dol| &emsp;&emsp;&emsp;&emsp;&emsp;   400|\n",
    "|Nigeria|23.00 dol | 25.50 dol|   &emsp;&emsp;&emsp;&emsp;&emsp; 750|\n",
    "\n",
    "\n",
    "\n",
    "|Domanda|Unità/Mese\n",
    "|---|---\n",
    "|Ginko|&emsp;&emsp;550\n",
    "|Kola|&emsp;&emsp;450\n",
    "\n",
    "\n",
    "\n"
   ]
  },
  {
   "cell_type": "markdown",
   "metadata": {},
   "source": [
    "Inizializziamo le librerie"
   ]
  },
  {
   "cell_type": "code",
   "execution_count": 1,
   "metadata": {},
   "outputs": [],
   "source": [
    "#using Pkg\n",
    "#Pkg.add(\"JuMP\")\n",
    "#Pkg.add(\"GLPK\")\n",
    "\n",
    "using JuMP, GLPK;"
   ]
  },
  {
   "cell_type": "markdown",
   "metadata": {},
   "source": [
    "Definiamo il modello"
   ]
  },
  {
   "cell_type": "code",
   "execution_count": 2,
   "metadata": {},
   "outputs": [],
   "source": [
    "m = Model(with_optimizer(GLPK.Optimizer));"
   ]
  },
  {
   "cell_type": "markdown",
   "metadata": {},
   "source": [
    "### Variabili utili \n",
    "\n",
    "Le variabili che verranno dichiarate nel modello sono riportate di seguito. \n",
    "\n",
    "Si usa una notazione matriciale per rendere il codice più snello.\n",
    "\n",
    "* <b>x[1:3][1:2]</b>: la matrice incognita delle quantità dei succhi, così costruito:\n",
    "     * <b>x[1][1]</b>: la quantità di Ginko prodotta in Ethiopia\n",
    "     * <b>x[1][2]</b>: la quantità di Kola prodotta in Ethiopia\n",
    "     * <b>x[2][1]</b>: la quantità di Ginko prodotta in Tanzania\n",
    "     * <b>x[2][2]</b>: la quantità di Kola prodotta in Tanzania\n",
    "     * <b>x[3][1]</b>: la quantità di Ginko prodotta in Nigeria\n",
    "     * <b>x[3][2]</b>: la quantità di Kola prodotta in Nigeria\n",
    "\n",
    "* <b>costo</b>: la matrice del costo/unità dei due succhi, rispettivamente Ginko e Kola, prodotti rispettivamente in Ethiopia, Tanzania e Nigeria;\n",
    "* <b>capacità</b>: il vettore delle capacità dei tre impianti, rispettivamente Ethiopia, Tanzania e Nigeria;\n",
    "* <b>domanda</b>: il vettore della domanda di mercato delle quantità dei due succhi in ordine, Ginko e Kola. \n"
   ]
  },
  {
   "cell_type": "markdown",
   "metadata": {},
   "source": [
    "Definiamo la variabile x[1:6].\n",
    "\n",
    "Richiediamo che le quantità dei succhi prodotti in ogni impianto siano non nulle e numeri interi."
   ]
  },
  {
   "cell_type": "code",
   "execution_count": 3,
   "metadata": {},
   "outputs": [],
   "source": [
    "@variable(m, x[1:3 , 1:2] >= 0, Int);"
   ]
  },
  {
   "cell_type": "code",
   "execution_count": null,
   "metadata": {},
   "outputs": [],
   "source": []
  },
  {
   "cell_type": "markdown",
   "metadata": {},
   "source": [
    "Definiamo il vettore della capacità e della domanda e la matrice dei costi."
   ]
  },
  {
   "cell_type": "code",
   "execution_count": 4,
   "metadata": {},
   "outputs": [],
   "source": [
    "capacita = [425 400 750];"
   ]
  },
  {
   "cell_type": "code",
   "execution_count": 5,
   "metadata": {},
   "outputs": [],
   "source": [
    "domanda = [550 450];"
   ]
  },
  {
   "cell_type": "code",
   "execution_count": 6,
   "metadata": {},
   "outputs": [],
   "source": [
    "costo = [21 22.5; 22.5 24.5; 23 25.5];"
   ]
  },
  {
   "cell_type": "code",
   "execution_count": null,
   "metadata": {},
   "outputs": [],
   "source": []
  },
  {
   "cell_type": "markdown",
   "metadata": {},
   "source": []
  },
  {
   "cell_type": "markdown",
   "metadata": {},
   "source": [
    "Costruiamo la funzione obiettivo."
   ]
  },
  {
   "cell_type": "code",
   "execution_count": 7,
   "metadata": {},
   "outputs": [
    {
     "data": {
      "text/latex": [
       "$$ 21 x_{1,1} + 22.5 x_{2,1} + 23 x_{3,1} + 22.5 x_{1,2} + 24.5 x_{2,2} + 25.5 x_{3,2} $$"
      ],
      "text/plain": [
       "21 x[1,1] + 22.5 x[2,1] + 23 x[3,1] + 22.5 x[1,2] + 24.5 x[2,2] + 25.5 x[3,2]"
      ]
     },
     "execution_count": 7,
     "metadata": {},
     "output_type": "execute_result"
    }
   ],
   "source": [
    "@objective(m, Min, sum(x .* costo))"
   ]
  },
  {
   "cell_type": "code",
   "execution_count": null,
   "metadata": {},
   "outputs": [],
   "source": []
  },
  {
   "cell_type": "markdown",
   "metadata": {},
   "source": [
    "Dichiariamo i vincoli del problema:\n",
    "- la quantità di Ginko e Kola prodotta, deve soddisfare la domanda;\n",
    "- la quantità complessiva di succo prodotta non deve superare la capacità dei tre impianti."
   ]
  },
  {
   "cell_type": "code",
   "execution_count": 8,
   "metadata": {},
   "outputs": [
    {
     "data": {
      "text/plain": [
       "3×1 Array{ConstraintRef{Model,MathOptInterface.ConstraintIndex{MathOptInterface.ScalarAffineFunction{Float64},MathOptInterface.LessThan{Float64}},ScalarShape},2}:\n",
       " x[1,1] + x[1,2] ≤ 425.0\n",
       " x[2,1] + x[2,2] ≤ 400.0\n",
       " x[3,1] + x[3,2] ≤ 750.0"
      ]
     },
     "execution_count": 8,
     "metadata": {},
     "output_type": "execute_result"
    }
   ],
   "source": [
    "@constraint(m, constraint1, sum(x, dims=2) .<= capacita')"
   ]
  },
  {
   "cell_type": "code",
   "execution_count": 9,
   "metadata": {},
   "outputs": [
    {
     "data": {
      "text/plain": [
       "1×2 Array{ConstraintRef{Model,MathOptInterface.ConstraintIndex{MathOptInterface.ScalarAffineFunction{Float64},MathOptInterface.GreaterThan{Float64}},ScalarShape},2}:\n",
       " x[1,1] + x[2,1] + x[3,1] ≥ 550.0  x[1,2] + x[2,2] + x[3,2] ≥ 450.0"
      ]
     },
     "execution_count": 9,
     "metadata": {},
     "output_type": "execute_result"
    }
   ],
   "source": [
    "@constraint(m, constraint2, sum(x, dims=1) .>= domanda)"
   ]
  },
  {
   "cell_type": "code",
   "execution_count": null,
   "metadata": {},
   "outputs": [],
   "source": []
  },
  {
   "cell_type": "code",
   "execution_count": null,
   "metadata": {},
   "outputs": [],
   "source": []
  },
  {
   "cell_type": "markdown",
   "metadata": {},
   "source": [
    "Il problema espresso in termini matematici:\n",
    "$$\n",
    "\\text{Minimize } 21 x_{G,E} + 22.5 x_{K,E} + 22.5 x_{G,T}+ 24.5 x_{K,T} + 23 x_{G,N} + 25.5 x_{K,N}  \n",
    "\\text{ s.t } \\begin{cases}  x_{G,E} + x_{K,E} \\leq 425 \\\\ x_{G,T} + x_{K,T} \\leq 400 \\\\ x_{G,N} + x_{K,N} \\leq 750 \\\\ x_{G,E} + x_{G,T} + x_{G,N} \\geq 550 \\\\ x_{K,E} + x_{K,T} + x_{K,N} \\geq 450 \\\\ \n",
    "x_{G,E}, x_{K,E}, x_{G,T}, x_{K,T}, x_{G,N}, x_{K,N} \\geq 0 \\end{cases}\n",
    "$$"
   ]
  },
  {
   "cell_type": "code",
   "execution_count": null,
   "metadata": {},
   "outputs": [],
   "source": []
  },
  {
   "cell_type": "markdown",
   "metadata": {},
   "source": [
    "Avviamo l'algoritmo di ottimizzazione."
   ]
  },
  {
   "cell_type": "code",
   "execution_count": 10,
   "metadata": {},
   "outputs": [],
   "source": [
    "optimize!(m)"
   ]
  },
  {
   "cell_type": "markdown",
   "metadata": {},
   "source": [
    "Verifichiamo che l'algoritmo abbia fornito risultato con esito positivo."
   ]
  },
  {
   "cell_type": "code",
   "execution_count": 11,
   "metadata": {},
   "outputs": [
    {
     "data": {
      "text/plain": [
       "OPTIMAL::TerminationStatusCode = 1"
      ]
     },
     "execution_count": 11,
     "metadata": {},
     "output_type": "execute_result"
    }
   ],
   "source": [
    "termination_status(m)"
   ]
  },
  {
   "cell_type": "code",
   "execution_count": null,
   "metadata": {},
   "outputs": [],
   "source": []
  },
  {
   "cell_type": "markdown",
   "metadata": {},
   "source": [
    "<p style=\"border: 3px solid crimson;box-shadow: 5px 6px indianRed;padding:20px;\">La soluzione ottimale</p>\n",
    "\n",
    "\n"
   ]
  },
  {
   "cell_type": "code",
   "execution_count": 13,
   "metadata": {},
   "outputs": [
    {
     "name": "stdout",
     "output_type": "stream",
     "text": [
      "x_{G,E} = 0.0\n",
      "x_{K,E} = 425.0\n",
      "x_{G,T} = 375.0\n",
      "x_{K,T} = 25.0\n",
      "x_{G,N} = 175.0\n",
      "x_{K,N} = 0.0\n",
      "I costi minimi a cui far fronte = 22637.5 dollari\n"
     ]
    }
   ],
   "source": [
    "println(\"x_{G,E} = \", value(x[1,1]))\n",
    "println(\"x_{K,E} = \", value(x[1,2]))\n",
    "println(\"x_{G,T} = \", value(x[2,1]))\n",
    "println(\"x_{K,T} = \", value(x[2,2]))\n",
    "println(\"x_{G,N} = \", value(x[3,1]))\n",
    "println(\"x_{K,N} = \", value(x[3,2]))\n",
    "\n",
    "println(\"I costi minimi a cui far fronte = \", 21.5 * value(x[1,1])+22.5* value(x[1,2])+22.5* value(x[2,1])+24.5* value(x[2,2])+23* value(x[3,1])+25.5* value(x[3,2]), \" dollari\")"
   ]
  },
  {
   "cell_type": "code",
   "execution_count": null,
   "metadata": {},
   "outputs": [],
   "source": []
  },
  {
   "cell_type": "markdown",
   "metadata": {},
   "source": [
    "Disegnamo un grafico a barre con le quantità dei succhi ottimali da produrre, al fine di minimizzare i costi."
   ]
  },
  {
   "cell_type": "code",
   "execution_count": null,
   "metadata": {},
   "outputs": [],
   "source": []
  },
  {
   "cell_type": "code",
   "execution_count": 14,
   "metadata": {},
   "outputs": [
    {
     "data": {
      "image/svg+xml": [
       "<?xml version=\"1.0\" encoding=\"utf-8\"?>\n",
       "<svg xmlns=\"http://www.w3.org/2000/svg\" xmlns:xlink=\"http://www.w3.org/1999/xlink\" width=\"600\" height=\"400\" viewBox=\"0 0 2400 1600\">\n",
       "<defs>\n",
       "  <clipPath id=\"clip6200\">\n",
       "    <rect x=\"0\" y=\"0\" width=\"2400\" height=\"1600\"/>\n",
       "  </clipPath>\n",
       "</defs>\n",
       "<path clip-path=\"url(#clip6200)\" d=\"\n",
       "M0 1600 L2400 1600 L2400 0 L0 0  Z\n",
       "  \" fill=\"#ffffff\" fill-rule=\"evenodd\" fill-opacity=\"1\"/>\n",
       "<defs>\n",
       "  <clipPath id=\"clip6201\">\n",
       "    <rect x=\"480\" y=\"0\" width=\"1681\" height=\"1600\"/>\n",
       "  </clipPath>\n",
       "</defs>\n",
       "<path clip-path=\"url(#clip6200)\" d=\"\n",
       "M229.135 1425.62 L2352.76 1425.62 L2352.76 121.675 L229.135 121.675  Z\n",
       "  \" fill=\"#ffffff\" fill-rule=\"evenodd\" fill-opacity=\"1\"/>\n",
       "<defs>\n",
       "  <clipPath id=\"clip6202\">\n",
       "    <rect x=\"229\" y=\"121\" width=\"2125\" height=\"1305\"/>\n",
       "  </clipPath>\n",
       "</defs>\n",
       "<polyline clip-path=\"url(#clip6202)\" style=\"stroke:#000000; stroke-width:2; stroke-opacity:0.1; fill:none\" points=\"\n",
       "  578.012,1425.62 578.012,121.675 \n",
       "  \"/>\n",
       "<polyline clip-path=\"url(#clip6202)\" style=\"stroke:#000000; stroke-width:2; stroke-opacity:0.1; fill:none\" points=\"\n",
       "  1290.95,1425.62 1290.95,121.675 \n",
       "  \"/>\n",
       "<polyline clip-path=\"url(#clip6202)\" style=\"stroke:#000000; stroke-width:2; stroke-opacity:0.1; fill:none\" points=\"\n",
       "  2003.88,1425.62 2003.88,121.675 \n",
       "  \"/>\n",
       "<polyline clip-path=\"url(#clip6202)\" style=\"stroke:#000000; stroke-width:2; stroke-opacity:0.1; fill:none\" points=\"\n",
       "  229.135,1388.71 2352.76,1388.71 \n",
       "  \"/>\n",
       "<polyline clip-path=\"url(#clip6202)\" style=\"stroke:#000000; stroke-width:2; stroke-opacity:0.1; fill:none\" points=\"\n",
       "  229.135,1099.27 2352.76,1099.27 \n",
       "  \"/>\n",
       "<polyline clip-path=\"url(#clip6202)\" style=\"stroke:#000000; stroke-width:2; stroke-opacity:0.1; fill:none\" points=\"\n",
       "  229.135,809.827 2352.76,809.827 \n",
       "  \"/>\n",
       "<polyline clip-path=\"url(#clip6202)\" style=\"stroke:#000000; stroke-width:2; stroke-opacity:0.1; fill:none\" points=\"\n",
       "  229.135,520.384 2352.76,520.384 \n",
       "  \"/>\n",
       "<polyline clip-path=\"url(#clip6202)\" style=\"stroke:#000000; stroke-width:2; stroke-opacity:0.1; fill:none\" points=\"\n",
       "  229.135,230.94 2352.76,230.94 \n",
       "  \"/>\n",
       "<polyline clip-path=\"url(#clip6200)\" style=\"stroke:#000000; stroke-width:4; stroke-opacity:1; fill:none\" points=\"\n",
       "  229.135,1425.62 2352.76,1425.62 \n",
       "  \"/>\n",
       "<polyline clip-path=\"url(#clip6200)\" style=\"stroke:#000000; stroke-width:4; stroke-opacity:1; fill:none\" points=\"\n",
       "  229.135,1425.62 229.135,121.675 \n",
       "  \"/>\n",
       "<polyline clip-path=\"url(#clip6200)\" style=\"stroke:#000000; stroke-width:4; stroke-opacity:1; fill:none\" points=\"\n",
       "  578.012,1425.62 578.012,1409.97 \n",
       "  \"/>\n",
       "<polyline clip-path=\"url(#clip6200)\" style=\"stroke:#000000; stroke-width:4; stroke-opacity:1; fill:none\" points=\"\n",
       "  1290.95,1425.62 1290.95,1409.97 \n",
       "  \"/>\n",
       "<polyline clip-path=\"url(#clip6200)\" style=\"stroke:#000000; stroke-width:4; stroke-opacity:1; fill:none\" points=\"\n",
       "  2003.88,1425.62 2003.88,1409.97 \n",
       "  \"/>\n",
       "<polyline clip-path=\"url(#clip6200)\" style=\"stroke:#000000; stroke-width:4; stroke-opacity:1; fill:none\" points=\"\n",
       "  229.135,1388.71 254.619,1388.71 \n",
       "  \"/>\n",
       "<polyline clip-path=\"url(#clip6200)\" style=\"stroke:#000000; stroke-width:4; stroke-opacity:1; fill:none\" points=\"\n",
       "  229.135,1099.27 254.619,1099.27 \n",
       "  \"/>\n",
       "<polyline clip-path=\"url(#clip6200)\" style=\"stroke:#000000; stroke-width:4; stroke-opacity:1; fill:none\" points=\"\n",
       "  229.135,809.827 254.619,809.827 \n",
       "  \"/>\n",
       "<polyline clip-path=\"url(#clip6200)\" style=\"stroke:#000000; stroke-width:4; stroke-opacity:1; fill:none\" points=\"\n",
       "  229.135,520.384 254.619,520.384 \n",
       "  \"/>\n",
       "<polyline clip-path=\"url(#clip6200)\" style=\"stroke:#000000; stroke-width:4; stroke-opacity:1; fill:none\" points=\"\n",
       "  229.135,230.94 254.619,230.94 \n",
       "  \"/>\n",
       "<g clip-path=\"url(#clip6200)\">\n",
       "<text style=\"fill:#000000; fill-opacity:1; font-family:Arial,Helvetica Neue,Helvetica,sans-serif; font-size:48px; text-anchor:middle;\" transform=\"rotate(0, 578.012, 1479.62)\" x=\"578.012\" y=\"1479.62\">Ethiopia</text>\n",
       "</g>\n",
       "<g clip-path=\"url(#clip6200)\">\n",
       "<text style=\"fill:#000000; fill-opacity:1; font-family:Arial,Helvetica Neue,Helvetica,sans-serif; font-size:48px; text-anchor:middle;\" transform=\"rotate(0, 1290.95, 1479.62)\" x=\"1290.95\" y=\"1479.62\">Nigeria</text>\n",
       "</g>\n",
       "<g clip-path=\"url(#clip6200)\">\n",
       "<text style=\"fill:#000000; fill-opacity:1; font-family:Arial,Helvetica Neue,Helvetica,sans-serif; font-size:48px; text-anchor:middle;\" transform=\"rotate(0, 2003.88, 1479.62)\" x=\"2003.88\" y=\"1479.62\">Tanzania</text>\n",
       "</g>\n",
       "<g clip-path=\"url(#clip6200)\">\n",
       "<text style=\"fill:#000000; fill-opacity:1; font-family:Arial,Helvetica Neue,Helvetica,sans-serif; font-size:48px; text-anchor:end;\" transform=\"rotate(0, 205.135, 1406.21)\" x=\"205.135\" y=\"1406.21\">0</text>\n",
       "</g>\n",
       "<g clip-path=\"url(#clip6200)\">\n",
       "<text style=\"fill:#000000; fill-opacity:1; font-family:Arial,Helvetica Neue,Helvetica,sans-serif; font-size:48px; text-anchor:end;\" transform=\"rotate(0, 205.135, 1116.77)\" x=\"205.135\" y=\"1116.77\">100</text>\n",
       "</g>\n",
       "<g clip-path=\"url(#clip6200)\">\n",
       "<text style=\"fill:#000000; fill-opacity:1; font-family:Arial,Helvetica Neue,Helvetica,sans-serif; font-size:48px; text-anchor:end;\" transform=\"rotate(0, 205.135, 827.327)\" x=\"205.135\" y=\"827.327\">200</text>\n",
       "</g>\n",
       "<g clip-path=\"url(#clip6200)\">\n",
       "<text style=\"fill:#000000; fill-opacity:1; font-family:Arial,Helvetica Neue,Helvetica,sans-serif; font-size:48px; text-anchor:end;\" transform=\"rotate(0, 205.135, 537.884)\" x=\"205.135\" y=\"537.884\">300</text>\n",
       "</g>\n",
       "<g clip-path=\"url(#clip6200)\">\n",
       "<text style=\"fill:#000000; fill-opacity:1; font-family:Arial,Helvetica Neue,Helvetica,sans-serif; font-size:48px; text-anchor:end;\" transform=\"rotate(0, 205.135, 248.44)\" x=\"205.135\" y=\"248.44\">400</text>\n",
       "</g>\n",
       "<polyline clip-path=\"url(#clip6202)\" style=\"stroke:#000000; stroke-width:4; stroke-opacity:1; fill:none\" points=\"\n",
       "  229.135,121.675 2352.76,121.675 \n",
       "  \"/>\n",
       "<polyline clip-path=\"url(#clip6202)\" style=\"stroke:#000000; stroke-width:4; stroke-opacity:1; fill:none\" points=\"\n",
       "  2352.76,1425.62 2352.76,121.675 \n",
       "  \"/>\n",
       "<g clip-path=\"url(#clip6200)\">\n",
       "<text style=\"fill:#000000; fill-opacity:1; font-family:Arial,Helvetica Neue,Helvetica,sans-serif; font-size:84px; text-anchor:middle;\" transform=\"rotate(0, 1290.95, 73.2)\" x=\"1290.95\" y=\"73.2\">Quantità di succo prodotta</text>\n",
       "</g>\n",
       "<g clip-path=\"url(#clip6200)\">\n",
       "<text style=\"fill:#000000; fill-opacity:1; font-family:Arial,Helvetica Neue,Helvetica,sans-serif; font-size:66px; text-anchor:middle;\" transform=\"rotate(0, 1290.95, 1559.48)\" x=\"1290.95\" y=\"1559.48\">Stabilimenti</text>\n",
       "</g>\n",
       "<g clip-path=\"url(#clip6200)\">\n",
       "<text style=\"fill:#000000; fill-opacity:1; font-family:Arial,Helvetica Neue,Helvetica,sans-serif; font-size:66px; text-anchor:middle;\" transform=\"rotate(-90, 89.2861, 773.647)\" x=\"89.2861\" y=\"773.647\">Unità di succo</text>\n",
       "</g>\n",
       "<path clip-path=\"url(#clip6202)\" d=\"\n",
       "M339.179 1388.71 L339.179 1388.71 L578.012 1388.71 L578.012 1388.71 L339.179 1388.71 L339.179 1388.71  Z\n",
       "  \" fill=\"#009af9\" fill-rule=\"evenodd\" fill-opacity=\"1\"/>\n",
       "<polyline clip-path=\"url(#clip6202)\" style=\"stroke:#000000; stroke-width:0; stroke-opacity:1; fill:none\" points=\"\n",
       "  339.179,1388.71 339.179,1388.71 578.012,1388.71 339.179,1388.71 \n",
       "  \"/>\n",
       "<path clip-path=\"url(#clip6202)\" d=\"\n",
       "M1052.11 882.188 L1052.11 1388.71 L1290.95 1388.71 L1290.95 882.188 L1052.11 882.188 L1052.11 882.188  Z\n",
       "  \" fill=\"#009af9\" fill-rule=\"evenodd\" fill-opacity=\"1\"/>\n",
       "<polyline clip-path=\"url(#clip6202)\" style=\"stroke:#000000; stroke-width:0; stroke-opacity:1; fill:none\" points=\"\n",
       "  1052.11,882.188 1052.11,1388.71 1290.95,1388.71 1290.95,882.188 1052.11,882.188 \n",
       "  \"/>\n",
       "<path clip-path=\"url(#clip6202)\" d=\"\n",
       "M1765.05 303.301 L1765.05 1388.71 L2003.88 1388.71 L2003.88 303.301 L1765.05 303.301 L1765.05 303.301  Z\n",
       "  \" fill=\"#009af9\" fill-rule=\"evenodd\" fill-opacity=\"1\"/>\n",
       "<polyline clip-path=\"url(#clip6202)\" style=\"stroke:#000000; stroke-width:0; stroke-opacity:1; fill:none\" points=\"\n",
       "  1765.05,303.301 1765.05,1388.71 2003.88,1388.71 2003.88,303.301 1765.05,303.301 \n",
       "  \"/>\n",
       "<path clip-path=\"url(#clip6202)\" d=\"\n",
       "M578.012 158.579 L578.012 1388.71 L816.844 1388.71 L816.844 158.579 L578.012 158.579 L578.012 158.579  Z\n",
       "  \" fill=\"#e26f46\" fill-rule=\"evenodd\" fill-opacity=\"1\"/>\n",
       "<polyline clip-path=\"url(#clip6202)\" style=\"stroke:#000000; stroke-width:0; stroke-opacity:1; fill:none\" points=\"\n",
       "  578.012,158.579 578.012,1388.71 816.844,1388.71 816.844,158.579 578.012,158.579 \n",
       "  \"/>\n",
       "<path clip-path=\"url(#clip6202)\" d=\"\n",
       "M1290.95 1388.71 L1290.95 1388.71 L1529.78 1388.71 L1529.78 1388.71 L1290.95 1388.71 L1290.95 1388.71  Z\n",
       "  \" fill=\"#e26f46\" fill-rule=\"evenodd\" fill-opacity=\"1\"/>\n",
       "<polyline clip-path=\"url(#clip6202)\" style=\"stroke:#000000; stroke-width:0; stroke-opacity:1; fill:none\" points=\"\n",
       "  1290.95,1388.71 1290.95,1388.71 1529.78,1388.71 1290.95,1388.71 \n",
       "  \"/>\n",
       "<path clip-path=\"url(#clip6202)\" d=\"\n",
       "M2003.88 1316.35 L2003.88 1388.71 L2242.71 1388.71 L2242.71 1316.35 L2003.88 1316.35 L2003.88 1316.35  Z\n",
       "  \" fill=\"#e26f46\" fill-rule=\"evenodd\" fill-opacity=\"1\"/>\n",
       "<polyline clip-path=\"url(#clip6202)\" style=\"stroke:#000000; stroke-width:0; stroke-opacity:1; fill:none\" points=\"\n",
       "  2003.88,1316.35 2003.88,1388.71 2242.71,1388.71 2242.71,1316.35 2003.88,1316.35 \n",
       "  \"/>\n",
       "<path clip-path=\"url(#clip6200)\" d=\"\n",
       "M1915.03 386.635 L2280.76 386.635 L2280.76 205.195 L1915.03 205.195  Z\n",
       "  \" fill=\"#ffffff\" fill-rule=\"evenodd\" fill-opacity=\"1\"/>\n",
       "<polyline clip-path=\"url(#clip6200)\" style=\"stroke:#000000; stroke-width:4; stroke-opacity:1; fill:none\" points=\"\n",
       "  1915.03,386.635 2280.76,386.635 2280.76,205.195 1915.03,205.195 1915.03,386.635 \n",
       "  \"/>\n",
       "<path clip-path=\"url(#clip6200)\" d=\"\n",
       "M1939.03 289.867 L2083.03 289.867 L2083.03 241.483 L1939.03 241.483 L1939.03 289.867  Z\n",
       "  \" fill=\"#009af9\" fill-rule=\"evenodd\" fill-opacity=\"1\"/>\n",
       "<polyline clip-path=\"url(#clip6200)\" style=\"stroke:#000000; stroke-width:0; stroke-opacity:1; fill:none\" points=\"\n",
       "  1939.03,289.867 2083.03,289.867 2083.03,241.483 1939.03,241.483 1939.03,289.867 \n",
       "  \"/>\n",
       "<g clip-path=\"url(#clip6200)\">\n",
       "<text style=\"fill:#000000; fill-opacity:1; font-family:Arial,Helvetica Neue,Helvetica,sans-serif; font-size:48px; text-anchor:start;\" transform=\"rotate(0, 2107.03, 283.175)\" x=\"2107.03\" y=\"283.175\">Ginko</text>\n",
       "</g>\n",
       "<path clip-path=\"url(#clip6200)\" d=\"\n",
       "M1939.03 350.347 L2083.03 350.347 L2083.03 301.963 L1939.03 301.963 L1939.03 350.347  Z\n",
       "  \" fill=\"#e26f46\" fill-rule=\"evenodd\" fill-opacity=\"1\"/>\n",
       "<polyline clip-path=\"url(#clip6200)\" style=\"stroke:#000000; stroke-width:0; stroke-opacity:1; fill:none\" points=\"\n",
       "  1939.03,350.347 2083.03,350.347 2083.03,301.963 1939.03,301.963 1939.03,350.347 \n",
       "  \"/>\n",
       "<g clip-path=\"url(#clip6200)\">\n",
       "<text style=\"fill:#000000; fill-opacity:1; font-family:Arial,Helvetica Neue,Helvetica,sans-serif; font-size:48px; text-anchor:start;\" transform=\"rotate(0, 2107.03, 343.655)\" x=\"2107.03\" y=\"343.655\">Kola</text>\n",
       "</g>\n",
       "</svg>\n"
      ]
     },
     "execution_count": 14,
     "metadata": {},
     "output_type": "execute_result"
    }
   ],
   "source": [
    "using StatsPlots\n",
    "\n",
    "ctg = repeat([\"Ginko\", \"Kola\"], inner = 3)\n",
    "nam = [\"Ethiopia\", \"Tanzania\", \"Nigeria\",\"Ethiopia\", \"Tanzania\",\"Nigeria\"]\n",
    "\n",
    "groupedbar(nam, [ value(x[1,1]) value(x[1,2]) ; value(x[2,1]) value(x[2,2]) ; value(x[3,1]) value(x[3,2]) ], group = ctg, xlabel = \"Stabilimenti\", ylabel = \"Unità di succo\",\n",
    "        title = \"Quantità di succo prodotta\", bar_width = 0.67,\n",
    "        lw = 0, framestyle = :box)"
   ]
  },
  {
   "cell_type": "code",
   "execution_count": null,
   "metadata": {},
   "outputs": [],
   "source": []
  },
  {
   "cell_type": "code",
   "execution_count": 22,
   "metadata": {},
   "outputs": [
    {
     "data": {
      "image/svg+xml": [
       "<?xml version=\"1.0\" encoding=\"utf-8\"?>\n",
       "<svg xmlns=\"http://www.w3.org/2000/svg\" xmlns:xlink=\"http://www.w3.org/1999/xlink\" width=\"600\" height=\"400\" viewBox=\"0 0 2400 1600\">\n",
       "<defs>\n",
       "  <clipPath id=\"clip7400\">\n",
       "    <rect x=\"0\" y=\"0\" width=\"2400\" height=\"1600\"/>\n",
       "  </clipPath>\n",
       "</defs>\n",
       "<path clip-path=\"url(#clip7400)\" d=\"\n",
       "M0 1600 L2400 1600 L2400 0 L0 0  Z\n",
       "  \" fill=\"#ffffff\" fill-rule=\"evenodd\" fill-opacity=\"1\"/>\n",
       "<defs>\n",
       "  <clipPath id=\"clip7401\">\n",
       "    <rect x=\"480\" y=\"0\" width=\"1681\" height=\"1600\"/>\n",
       "  </clipPath>\n",
       "</defs>\n",
       "<path clip-path=\"url(#clip7400)\" d=\"\n",
       "M47.2441 1552.76 L2352.76 1552.76 L2352.76 121.675 L47.2441 121.675  Z\n",
       "  \" fill=\"#ffffff\" fill-rule=\"evenodd\" fill-opacity=\"1\"/>\n",
       "<defs>\n",
       "  <clipPath id=\"clip7402\">\n",
       "    <rect x=\"47\" y=\"121\" width=\"2307\" height=\"1432\"/>\n",
       "  </clipPath>\n",
       "</defs>\n",
       "<g clip-path=\"url(#clip7400)\">\n",
       "<text style=\"fill:#000000; fill-opacity:1; font-family:Arial,Helvetica Neue,Helvetica,sans-serif; font-size:84px; text-anchor:middle;\" transform=\"rotate(0, 1200, 73.2)\" x=\"1200\" y=\"73.2\">Quantità di succo prodotta</text>\n",
       "</g>\n",
       "<g clip-path=\"url(#clip7400)\">\n",
       "<text style=\"fill:#000000; fill-opacity:1; font-family:Arial,Helvetica Neue,Helvetica,sans-serif; font-size:48px; text-anchor:start;\" transform=\"rotate(0, 2004.29, 969.991)\" x=\"2004.29\" y=\"969.991\">Ginko-Ethiopia</text>\n",
       "</g>\n",
       "<polyline clip-path=\"url(#clip7400)\" style=\"stroke:#000000; stroke-width:3.2; stroke-opacity:1; fill:none\" points=\"\n",
       "  1800.26,952.491 1860.29,952.491 1980.29,952.491 \n",
       "  \"/>\n",
       "<path clip-path=\"url(#clip7400)\" d=\"\n",
       "M1200 952.491 L1800.26 952.491 L1800.17 942.015 L1799.9 931.542 L1799.44 921.076 L1798.8 910.619 L1797.98 900.175 L1796.98 889.746 L1795.79 879.337 L1794.42 868.95 \n",
       "  L1792.87 858.589 L1791.15 848.256 L1789.24 837.955 L1787.15 827.689 L1784.88 817.461 L1782.43 807.274 L1779.81 797.131 L1777.01 787.036 L1774.04 776.991 L1770.89 766.999 \n",
       "  L1767.56 757.064 L1764.06 747.188 L1760.4 737.375 L1756.56 727.628 L1752.55 717.949 L1748.37 708.341 L1744.02 698.808 L1739.51 689.352 L1734.84 679.977 L1730 670.684 \n",
       "  L1725 661.477 L1719.84 652.359 L1714.53 643.332 L1709.05 634.399 L1703.42 625.563 L1697.64 616.827 L1691.71 608.193 L1685.62 599.664 L1679.39 591.243 L1673.02 582.931 \n",
       "  L1666.49 574.732 L1659.83 566.648 L1653.03 558.682 L1646.08 550.836 L1639.01 543.112 L1631.79 535.512 L1624.45 528.04 L1616.98 520.697 L1609.38 513.485 L1601.66 506.407 \n",
       "  L1593.81 499.466 L1585.84 492.662 L1577.76 485.998 L1569.56 479.476 L1561.25 473.098 L1552.83 466.867 L1544.3 460.783 L1535.66 454.849 L1526.93 449.067 L1518.09 443.438 \n",
       "  L1509.16 437.964 L1500.13 432.647 L1491.01 427.488 L1481.81 422.489 L1472.51 417.651 L1463.14 412.977 L1453.68 408.466 L1444.15 404.122 L1434.54 399.944 L1424.86 395.935 \n",
       "  L1415.12 392.096 L1405.3 388.427 L1395.43 384.93 L1385.49 381.605 L1375.5 378.455 L1365.46 375.48 L1355.36 372.68 L1345.22 370.057 L1335.03 367.611 L1324.8 365.344 \n",
       "  L1314.54 363.255 L1304.23 361.346 L1293.9 359.617 L1283.54 358.068 L1273.15 356.701 L1262.74 355.515 L1252.32 354.511 L1241.87 353.689 L1231.42 353.049 L1220.95 352.592 \n",
       "  L1210.48 352.318 L1200 352.226 L1189.52 352.318 L1179.05 352.592 L1168.58 353.049 L1158.13 353.689 L1147.68 354.511 L1137.26 355.515 L1126.85 356.701 L1116.46 358.068 \n",
       "  L1106.1 359.617 L1095.77 361.346 L1085.46 363.255 L1075.2 365.344 L1064.97 367.611 L1054.78 370.057 L1044.64 372.68 L1034.54 375.48 L1024.5 378.455 L1014.51 381.605 \n",
       "  L1004.57 384.93 L994.697 388.427 L984.884 392.096 L975.137 395.935 L965.458 399.944 L955.85 404.122 L946.317 408.466 L936.861 412.977 L927.485 417.651 L918.193 422.489 \n",
       "  L908.986 427.488 L899.868 432.647 L890.841 437.964 L881.908 443.438 L873.072 449.067 L864.336 454.849 L855.702 460.783 L847.173 466.867 L838.752 473.098 L830.44 479.476 \n",
       "  L822.241 485.998 L814.157 492.662 L806.191 499.466 L798.344 506.407 L790.62 513.485 L783.021 520.697 L775.549 528.04 L768.206 535.512 L760.994 543.112 L753.916 550.836 \n",
       "  L746.974 558.682 L740.17 566.648 L733.507 574.732 L726.985 582.931 L720.607 591.243 L714.376 599.664 L708.292 608.193 L702.358 616.827 L696.576 625.563 L690.947 634.399 \n",
       "  L685.473 643.332 L680.155 652.359 L674.997 661.477 L669.998 670.684 L665.16 679.977  Z\n",
       "  \" fill=\"#7f3e74\" fill-rule=\"evenodd\" fill-opacity=\"1\"/>\n",
       "<g clip-path=\"url(#clip7400)\">\n",
       "<text style=\"fill:#000000; fill-opacity:1; font-family:Arial,Helvetica Neue,Helvetica,sans-serif; font-size:48px; text-anchor:start;\" transform=\"rotate(0, 1498.14, 327.944)\" x=\"1498.14\" y=\"327.944\">Kola-Ethiopia</text>\n",
       "</g>\n",
       "<polyline clip-path=\"url(#clip7400)\" style=\"stroke:#000000; stroke-width:3.2; stroke-opacity:1; fill:none\" points=\"\n",
       "  1340.13,368.812 1354.14,310.444 1474.14,310.444 \n",
       "  \"/>\n",
       "<path clip-path=\"url(#clip7400)\" d=\"\n",
       "M1200 952.491 L665.16 679.977 L660.486 689.352 L655.975 698.808 L651.631 708.341 L647.453 717.949 L643.444 727.628 L639.605 737.375 L635.936 747.188 L632.438 757.064 \n",
       "  L629.114 766.999 L625.964 776.991 L622.988 787.036 L620.189 797.131 L617.566 807.274 L615.12 817.461 L612.852 827.689 L610.764 837.955 L608.855 848.256 L607.125 858.589 \n",
       "  L605.577 868.95 L604.209 879.337 L603.024 889.746 L602.019 900.175 L601.197 910.619 L600.558 921.076 L600.101 931.542 L599.827 942.015 L599.735 952.491 L599.827 962.967 \n",
       "  L600.101 973.44 L600.558 983.907 L601.197 994.363 L602.019 1004.81 L603.024 1015.24 L604.209 1025.64 L605.577 1036.03 L607.125 1046.39 L608.855 1056.73 L610.764 1067.03 \n",
       "  L612.852 1077.29 L615.12 1087.52 L617.566 1097.71 L620.189 1107.85 L622.988 1117.95 L625.964 1127.99 L629.114 1137.98 L632.438 1147.92 L635.936 1157.79 L639.605 1167.61 \n",
       "  L643.444 1177.35 L647.453 1187.03 L651.631 1196.64 L655.975 1206.17 L660.486 1215.63 L665.16 1225.01 L669.998 1234.3 L674.997 1243.51 L680.155 1252.62 L685.473 1261.65 \n",
       "  L690.947 1270.58 L696.576 1279.42 L702.358 1288.15 L708.292 1296.79 L714.376 1305.32 L720.607 1313.74 L726.985 1322.05 L733.507 1330.25 L740.17 1338.33 L746.974 1346.3 \n",
       "  L753.916 1354.15 L760.994 1361.87 L768.206 1369.47 L775.549 1376.94 L783.021 1384.29 L790.62 1391.5 L798.344 1398.57 L806.191 1405.52 L814.157 1412.32 L822.241 1418.98 \n",
       "  L830.44 1425.51 L838.752 1431.88 L847.173 1438.12 L855.702 1444.2 L864.336 1450.13 L873.072 1455.92 L881.908 1461.54 L890.841 1467.02 L899.868 1472.34 L908.986 1477.49 \n",
       "  L918.193 1482.49 L927.485 1487.33 L936.861 1492.01 L946.317 1496.52 L955.85 1500.86 L965.458 1505.04 L975.137 1509.05 L984.884 1512.89 L994.697 1516.56 L1004.57 1520.05 \n",
       "  L1014.51 1523.38 L1024.5 1526.53 L1034.54 1529.5 L1044.64 1532.3 L1054.78 1534.93 L1064.97 1537.37 L1075.2 1539.64 L1085.46 1541.73 L1095.77 1543.64 L1106.1 1545.37 \n",
       "  L1116.46 1546.91 L1126.85 1548.28 L1137.26 1549.47 L1147.68 1550.47 L1158.13 1551.29 L1168.58 1551.93 L1179.05 1552.39 L1189.52 1552.66 L1200 1552.76 L1210.48 1552.66 \n",
       "  L1220.95 1552.39 L1231.42 1551.93 L1241.87 1551.29 L1252.32 1550.47 L1262.74 1549.47 L1273.15 1548.28 L1283.54 1546.91 L1293.9 1545.37 L1304.23 1543.64 L1314.54 1541.73 \n",
       "  L1324.8 1539.64 L1335.03 1537.37 L1345.22 1534.93 L1355.36 1532.3 L1365.46 1529.5 L1375.5 1526.53 L1385.49 1523.38  Z\n",
       "  \" fill=\"#ff6700\" fill-rule=\"evenodd\" fill-opacity=\"1\"/>\n",
       "<g clip-path=\"url(#clip7400)\">\n",
       "<text style=\"fill:#000000; fill-opacity:1; font-family:Arial,Helvetica Neue,Helvetica,sans-serif; font-size:48px; text-anchor:end;\" transform=\"rotate(0, 553.911, 1398.82)\" x=\"553.911\" y=\"1398.82\">Ginko-Tanzania</text>\n",
       "</g>\n",
       "<polyline clip-path=\"url(#clip7400)\" style=\"stroke:#000000; stroke-width:3.2; stroke-opacity:1; fill:none\" points=\"\n",
       "  743.555,1342.33 697.911,1381.32 577.911,1381.32 \n",
       "  \"/>\n",
       "<path clip-path=\"url(#clip7400)\" d=\"\n",
       "M1200 952.491 L1385.49 1523.38 L1395.43 1520.05 L1405.3 1516.56 L1415.12 1512.89 L1424.86 1509.05 L1434.54 1505.04 L1444.15 1500.86 L1453.68 1496.52 L1463.14 1492.01 \n",
       "  L1472.51 1487.33  Z\n",
       "  \" fill=\"#59a3c0\" fill-rule=\"evenodd\" fill-opacity=\"1\"/>\n",
       "<g clip-path=\"url(#clip7400)\">\n",
       "<text style=\"fill:#000000; fill-opacity:1; font-family:Arial,Helvetica Neue,Helvetica,sans-serif; font-size:48px; text-anchor:start;\" transform=\"rotate(0, 1596.68, 1580.02)\" x=\"1596.68\" y=\"1580.02\">Kola-Tanzania</text>\n",
       "</g>\n",
       "<polyline clip-path=\"url(#clip7400)\" style=\"stroke:#000000; stroke-width:3.2; stroke-opacity:1; fill:none\" points=\"\n",
       "  1429.71,1507.06 1452.68,1562.52 1572.68,1562.52 \n",
       "  \"/>\n",
       "<path clip-path=\"url(#clip7400)\" d=\"\n",
       "M1200 952.491 L1472.51 1487.33 L1481.81 1482.49 L1491.01 1477.49 L1500.13 1472.34 L1509.16 1467.02 L1518.09 1461.54 L1526.93 1455.92 L1535.66 1450.13 L1544.3 1444.2 \n",
       "  L1552.83 1438.12 L1561.25 1431.88 L1569.56 1425.51 L1577.76 1418.98 L1585.84 1412.32 L1593.81 1405.52 L1601.66 1398.57 L1609.38 1391.5 L1616.98 1384.29 L1624.45 1376.94 \n",
       "  L1631.79 1369.47 L1639.01 1361.87 L1646.08 1354.15 L1653.03 1346.3 L1659.83 1338.33 L1666.49 1330.25 L1673.02 1322.05 L1679.39 1313.74 L1685.62 1305.32 L1691.71 1296.79 \n",
       "  L1697.64 1288.15 L1703.42 1279.42 L1709.05 1270.58 L1714.53 1261.65 L1719.84 1252.62 L1725 1243.51 L1730 1234.3 L1734.84 1225.01 L1739.51 1215.63 L1744.02 1206.17 \n",
       "  L1748.37 1196.64 L1752.55 1187.03 L1756.56 1177.35 L1760.4 1167.61 L1764.06 1157.79 L1767.56 1147.92 L1770.89 1137.98 L1774.04 1127.99 L1777.01 1117.95 L1779.81 1107.85 \n",
       "  L1782.43 1097.71 L1784.88 1087.52 L1787.15 1077.29 L1789.24 1067.03 L1791.15 1056.73 L1792.87 1046.39 L1794.42 1036.03 L1795.79 1025.64 L1796.98 1015.24 L1797.98 1004.81 \n",
       "  L1798.8 994.363 L1799.44 983.907 L1799.9 973.44 L1800.17 962.967 L1800.26 952.491  Z\n",
       "  \" fill=\"#c0001f\" fill-rule=\"evenodd\" fill-opacity=\"1\"/>\n",
       "<g clip-path=\"url(#clip7400)\">\n",
       "<text style=\"fill:#000000; fill-opacity:1; font-family:Arial,Helvetica Neue,Helvetica,sans-serif; font-size:48px; text-anchor:start;\" transform=\"rotate(0, 1906.99, 1314.99)\" x=\"1906.99\" y=\"1314.99\">Ginko-Nigeria</text>\n",
       "</g>\n",
       "<polyline clip-path=\"url(#clip7400)\" style=\"stroke:#000000; stroke-width:3.2; stroke-opacity:1; fill:none\" points=\"\n",
       "  1711.81,1266.13 1762.99,1297.49 1882.99,1297.49 \n",
       "  \"/>\n",
       "<g clip-path=\"url(#clip7400)\">\n",
       "<text style=\"fill:#000000; fill-opacity:1; font-family:Arial,Helvetica Neue,Helvetica,sans-serif; font-size:48px; text-anchor:start;\" transform=\"rotate(0, 2004.29, 969.991)\" x=\"2004.29\" y=\"969.991\">Kola-Nigeria</text>\n",
       "</g>\n",
       "<polyline clip-path=\"url(#clip7400)\" style=\"stroke:#000000; stroke-width:3.2; stroke-opacity:1; fill:none\" points=\"\n",
       "  1800.26,952.491 1860.29,952.491 1980.29,952.491 \n",
       "  \"/>\n",
       "</svg>\n"
      ]
     },
     "execution_count": 22,
     "metadata": {},
     "output_type": "execute_result"
    }
   ],
   "source": [
    "Plots.gr()\n",
    "\n",
    "totale= sum([value(x[1,1]) value(x[1,2]) value(x[2,1]) value(x[2,2]) value(x[3,1]) value(x[3,2])])\n",
    "\n",
    "etichette = [\"Ginko-Ethiopia\",\"Kola-Ethiopia\",\"Ginko-Tanzania\",\"Kola-Tanzania\",\"Ginko-Nigeria\",\"Kola-Nigeria\"]\n",
    "y = [value(x[1,1]) ; value(x[1,2]) ; value(x[2,1]) ; value(x[2,2]) ; value(x[3,1]) ; value(x[3,2])]./totale\n",
    "\n",
    "pie(etichette, y, title=\"Quantità di succo prodotta\", l=0.5)"
   ]
  },
  {
   "cell_type": "code",
   "execution_count": 23,
   "metadata": {},
   "outputs": [
    {
     "data": {
      "text/plain": [
       "6-element Array{Float64,1}:\n",
       " 0.0\n",
       " 0.425\n",
       " 0.375\n",
       " 0.025\n",
       " 0.175\n",
       " 0.0"
      ]
     },
     "execution_count": 23,
     "metadata": {},
     "output_type": "execute_result"
    }
   ],
   "source": [
    "y"
   ]
  },
  {
   "cell_type": "code",
   "execution_count": null,
   "metadata": {},
   "outputs": [],
   "source": []
  }
 ],
 "metadata": {
  "kernelspec": {
   "display_name": "Julia 1.5.3",
   "language": "julia",
   "name": "julia-1.5"
  },
  "language_info": {
   "file_extension": ".jl",
   "mimetype": "application/julia",
   "name": "julia",
   "version": "1.5.3"
  }
 },
 "nbformat": 4,
 "nbformat_minor": 4
}
