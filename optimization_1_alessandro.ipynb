{
 "cells": [
  {
   "cell_type": "markdown",
   "metadata": {},
   "source": [
    "GoNuts Juice Company\n",
    "\n",
    "GoNuts manufactures different juices made entirely of various exotic nuts.\n",
    "Their primary market is China and they operate three plants located in Ethiopia, Tanzania and Nigeria.\n",
    "You have been asked to help them determine where to manufacture the two newest juices they offer, Gingko Nut and Kola Nut.\n",
    "Each plant has a different variable cost structure and capacity for manufacturing the different juices.\n",
    "Also, each juice has an expected demand.\n",
    "\n",
    "\n",
    "Cost/Unit\tGingko\tKola\n",
    "Ethiopia\t21.00\t22.50\n",
    "Tanzania\t22.50\t24.50\n",
    "Nigeria \t23.00\t25.50\n",
    "\n",
    "Capacity\tUnits/Month\n",
    "Ethiopia\t425\n",
    "Tanzania\t400\n",
    "Nigeria \t750\n",
    "\n",
    "\n",
    "Demand\tUnits/Month\n",
    "Gingko\t550\n",
    "Kola\t450\n",
    "\n",
    "Note: Currency is Yen\n",
    "\n",
    "How much of each juice should be made at each plant in order to minimize total cost while meeting the demand and adhering to plant capacity?"
   ]
  },
  {
   "cell_type": "markdown",
   "metadata": {},
   "source": [
    "Import delle librerie."
   ]
  },
  {
   "cell_type": "code",
   "execution_count": 1,
   "metadata": {},
   "outputs": [],
   "source": [
    "using JuMP, GLPK;"
   ]
  },
  {
   "cell_type": "markdown",
   "metadata": {},
   "source": [
    "Utilizziamo GLPK (GNU Linear Programmer Kit) per definire il modello da ottimizzare."
   ]
  },
  {
   "cell_type": "code",
   "execution_count": 2,
   "metadata": {},
   "outputs": [],
   "source": [
    "m = Model(with_optimizer(GLPK.Optimizer));"
   ]
  },
  {
   "cell_type": "code",
   "execution_count": null,
   "metadata": {},
   "outputs": [],
   "source": [
    "Definizione delle variabili."
   ]
  },
  {
   "cell_type": "code",
   "execution_count": 3,
   "metadata": {},
   "outputs": [],
   "source": [
    "@variable(m, x11 >=0, Int);\n",
    "@variable(m, x12 >=0, Int);\n",
    "@variable(m, x13 >=0, Int);\n",
    "@variable(m, x21 >=0, Int);\n",
    "@variable(m, x22 >=0, Int);\n",
    "@variable(m, x23 >=0, Int);"
   ]
  },
  {
   "cell_type": "markdown",
   "metadata": {},
   "source": [
    "Definizione della funzione obiettivo."
   ]
  },
  {
   "cell_type": "code",
   "execution_count": 4,
   "metadata": {},
   "outputs": [
    {
     "data": {
      "text/latex": [
       "$$ 21 x11 + 22.5 x12 + 23 x13 + 22.5 x21 + 24.5 x22 + 25.5 x23 $$"
      ],
      "text/plain": [
       "21 x11 + 22.5 x12 + 23 x13 + 22.5 x21 + 24.5 x22 + 25.5 x23"
      ]
     },
     "execution_count": 4,
     "metadata": {},
     "output_type": "execute_result"
    }
   ],
   "source": [
    "@objective(m, Min, 21.00x11 + 22.50x12 + 23.00x13 + 22.50x21 + 24.50x22 + 25.50x23)"
   ]
  },
  {
   "cell_type": "markdown",
   "metadata": {},
   "source": [
    "Definizione dei vincoli lineari"
   ]
  },
  {
   "cell_type": "markdown",
   "metadata": {},
   "source": [
    "\"meeting the demand\""
   ]
  },
  {
   "cell_type": "code",
   "execution_count": 5,
   "metadata": {},
   "outputs": [
    {
     "data": {
      "text/latex": [
       "constraint2 : $ x21 + x22 + x23 \\geq 450.0 $"
      ],
      "text/plain": [
       "constraint2 : x21 + x22 + x23 >= 450.0"
      ]
     },
     "execution_count": 5,
     "metadata": {},
     "output_type": "execute_result"
    }
   ],
   "source": [
    "@constraint(m, constraint1, x11 +  x12 + x13 >= 550)\n",
    "@constraint(m, constraint2, x21 +  x22 + x23 >= 450)"
   ]
  },
  {
   "cell_type": "markdown",
   "metadata": {},
   "source": [
    "\"plant capacity\""
   ]
  },
  {
   "cell_type": "code",
   "execution_count": 6,
   "metadata": {},
   "outputs": [
    {
     "data": {
      "text/latex": [
       "constraint5 : $ x13 + x23 \\leq 750.0 $"
      ],
      "text/plain": [
       "constraint5 : x13 + x23 <= 750.0"
      ]
     },
     "execution_count": 6,
     "metadata": {},
     "output_type": "execute_result"
    }
   ],
   "source": [
    "@constraint(m, constraint3, x11 +  x21 <= 425)\n",
    "@constraint(m, constraint4, x12 +  x22 <= 400)\n",
    "@constraint(m, constraint5, x13 +  x23 <= 750)"
   ]
  },
  {
   "cell_type": "markdown",
   "metadata": {},
   "source": [
    "Mostriamo il modello lineare."
   ]
  },
  {
   "cell_type": "code",
   "execution_count": 7,
   "metadata": {},
   "outputs": [
    {
     "data": {
      "text/latex": [
       "$$ \\begin{alignat*}{1}\\min\\quad & 21 x11 + 22.5 x12 + 23 x13 + 22.5 x21 + 24.5 x22 + 25.5 x23\\\\\n",
       "\\text{Subject to} \\quad & x11 + x12 + x13 \\geq 550.0\\\\\n",
       " & x21 + x22 + x23 \\geq 450.0\\\\\n",
       " & x11 + x21 \\leq 425.0\\\\\n",
       " & x12 + x22 \\leq 400.0\\\\\n",
       " & x13 + x23 \\leq 750.0\\\\\n",
       " & x11 \\geq 0.0\\\\\n",
       " & x12 \\geq 0.0\\\\\n",
       " & x13 \\geq 0.0\\\\\n",
       " & x21 \\geq 0.0\\\\\n",
       " & x22 \\geq 0.0\\\\\n",
       " & x23 \\geq 0.0\\\\\n",
       " & x11 integer\\\\\n",
       " & x12 integer\\\\\n",
       " & x13 integer\\\\\n",
       " & x21 integer\\\\\n",
       " & x22 integer\\\\\n",
       " & x23 integer\\\\\n",
       "\\end{alignat*}\n",
       " $$"
      ],
      "text/plain": [
       "A JuMP Model\n",
       "Minimization problem with:\n",
       "Variables: 6\n",
       "Objective function type: GenericAffExpr{Float64,VariableRef}\n",
       "`GenericAffExpr{Float64,VariableRef}`-in-`MathOptInterface.GreaterThan{Float64}`: 2 constraints\n",
       "`GenericAffExpr{Float64,VariableRef}`-in-`MathOptInterface.LessThan{Float64}`: 3 constraints\n",
       "`VariableRef`-in-`MathOptInterface.GreaterThan{Float64}`: 6 constraints\n",
       "`VariableRef`-in-`MathOptInterface.Integer`: 6 constraints\n",
       "Model mode: AUTOMATIC\n",
       "CachingOptimizer state: EMPTY_OPTIMIZER\n",
       "Solver name: GLPK\n",
       "Names registered in the model: constraint1, constraint2, constraint3, constraint4, constraint5, x11, x12, x13, x21, x22, x23"
      ]
     },
     "execution_count": 7,
     "metadata": {},
     "output_type": "execute_result"
    }
   ],
   "source": [
    "m"
   ]
  },
  {
   "cell_type": "code",
   "execution_count": 8,
   "metadata": {},
   "outputs": [],
   "source": [
    "optimize!(m)"
   ]
  },
  {
   "cell_type": "code",
   "execution_count": 9,
   "metadata": {},
   "outputs": [
    {
     "data": {
      "text/plain": [
       "OPTIMAL::TerminationStatusCode = 1"
      ]
     },
     "execution_count": 9,
     "metadata": {},
     "output_type": "execute_result"
    }
   ],
   "source": [
    "termination_status(m)"
   ]
  },
  {
   "cell_type": "code",
   "execution_count": 14,
   "metadata": {},
   "outputs": [
    {
     "name": "stdout",
     "output_type": "stream",
     "text": [
      "\n",
      "Optimal Solutions:\n",
      "\n",
      "\t  [Gingko]  [Kola]\n",
      "[Ethiopia]   0.0     425.0\n",
      "[Tanzania] 375.0      25.0\n",
      " [Nigeria] 175.0       0.0\n",
      "\n",
      "Costo totale: 22637.5\n"
     ]
    }
   ],
   "source": [
    "println(\"\\nOptimal Solutions:\\n\")\n",
    "println(\"\\t  [Gingko]  [Kola]\")\n",
    "println(\"[Ethiopia]   \", JuMP.value(x11),\"     \", JuMP.value(x21))\n",
    "println(\"[Tanzania] \", JuMP.value(x12),\"      \", JuMP.value(x22))\n",
    "println(\" [Nigeria] \", JuMP.value(x13),\"       \", JuMP.value(x23))\n",
    "println(\"\\nCosto totale: \", 21.00JuMP.value(x11) + 22.50JuMP.value(x12) + 23.00JuMP.value(x13) + 22.50JuMP.value(x21) + 24.50JuMP.value(x22) + 25.50JuMP.value(x23))"
   ]
  }
 ],
 "metadata": {
  "kernelspec": {
   "display_name": "Julia 1.5.3",
   "language": "julia",
   "name": "julia-1.5"
  },
  "language_info": {
   "file_extension": ".jl",
   "mimetype": "application/julia",
   "name": "julia",
   "version": "1.5.3"
  }
 },
 "nbformat": 4,
 "nbformat_minor": 4
}
