{
 "cells": [
  {
   "cell_type": "markdown",
   "metadata": {},
   "source": [
    "# GoNuts Juice Company - Optimization problem"
   ]
  },
  {
   "cell_type": "code",
   "execution_count": 1,
   "metadata": {},
   "outputs": [
    {
     "ename": "LoadError",
     "evalue": "syntax: extra token \"1\" after end of expression",
     "output_type": "error",
     "traceback": [
      "syntax: extra token \"1\" after end of expression",
      "",
      "Stacktrace:",
      " [1] top-level scope at In[1]:1",
      " [2] include_string(::Function, ::Module, ::String, ::String) at .\\loading.jl:1091"
     ]
    }
   ],
   "source": [
    "model 1:"
   ]
  },
  {
   "cell_type": "code",
   "execution_count": 2,
   "metadata": {},
   "outputs": [],
   "source": [
    "using JuMP, GLPK;"
   ]
  },
  {
   "cell_type": "code",
   "execution_count": 3,
   "metadata": {},
   "outputs": [],
   "source": [
    "m = Model(with_optimizer(GLPK.Optimizer));"
   ]
  },
  {
   "cell_type": "code",
   "execution_count": 4,
   "metadata": {},
   "outputs": [],
   "source": [
    "@variable(m, xge >=0);\n",
    "@variable(m, xke >=0);\n",
    "@variable(m, xgt >=0);\n",
    "@variable(m, xkt >=0);\n",
    "@variable(m, xgn >=0);\n",
    "@variable(m, xkn >=0);"
   ]
  },
  {
   "cell_type": "code",
   "execution_count": 5,
   "metadata": {},
   "outputs": [
    {
     "data": {
      "text/latex": [
       "$$ 21 xge + 22.5 xke + 22.5 xgt + 24.5 xkt + 23 xgn + 25.5 xkn $$"
      ],
      "text/plain": [
       "21 xge + 22.5 xke + 22.5 xgt + 24.5 xkt + 23 xgn + 25.5 xkn"
      ]
     },
     "execution_count": 5,
     "metadata": {},
     "output_type": "execute_result"
    }
   ],
   "source": [
    "@objective(m, Min, 21xge + 22.5xke + 22.5xgt + 24.5xkt + 23xgn + 25.5xkn)"
   ]
  },
  {
   "cell_type": "code",
   "execution_count": 6,
   "metadata": {},
   "outputs": [
    {
     "data": {
      "text/latex": [
       "constraint5 : $ xke + xkt + xkn \\geq 450.0 $"
      ],
      "text/plain": [
       "constraint5 : xke + xkt + xkn >= 450.0"
      ]
     },
     "execution_count": 6,
     "metadata": {},
     "output_type": "execute_result"
    }
   ],
   "source": [
    "@constraint(m, constraint1, xge + xke <= 425)\n",
    "@constraint(m, constraint2, xgt + xkt <= 400)\n",
    "@constraint(m, constraint3, xgn + xkn <= 750)\n",
    "@constraint(m, constraint4, xge + xgt + xgn >= 550)\n",
    "@constraint(m, constraint5, xke + xkt + xkn >= 450)"
   ]
  },
  {
   "cell_type": "code",
   "execution_count": 7,
   "metadata": {},
   "outputs": [
    {
     "name": "stdout",
     "output_type": "stream",
     "text": [
      "Min 21 xge + 22.5 xke + 22.5 xgt + 24.5 xkt + 23 xgn + 25.5 xkn\n",
      "Subject to\n",
      " constraint4 : xge + xgt + xgn >= 550.0\n",
      " constraint5 : xke + xkt + xkn >= 450.0\n",
      " constraint1 : xge + xke <= 425.0\n",
      " constraint2 : xgt + xkt <= 400.0\n",
      " constraint3 : xgn + xkn <= 750.0\n",
      " xge >= 0.0\n",
      " xke >= 0.0\n",
      " xgt >= 0.0\n",
      " xkt >= 0.0\n",
      " xgn >= 0.0\n",
      " xkn >= 0.0\n"
     ]
    }
   ],
   "source": [
    "print(m)"
   ]
  },
  {
   "cell_type": "code",
   "execution_count": 8,
   "metadata": {},
   "outputs": [],
   "source": [
    "optimize!(m)"
   ]
  },
  {
   "cell_type": "code",
   "execution_count": 9,
   "metadata": {},
   "outputs": [
    {
     "data": {
      "text/plain": [
       "OPTIMAL::TerminationStatusCode = 1"
      ]
     },
     "execution_count": 9,
     "metadata": {},
     "output_type": "execute_result"
    }
   ],
   "source": [
    "termination_status(m)"
   ]
  },
  {
   "cell_type": "code",
   "execution_count": 10,
   "metadata": {},
   "outputs": [
    {
     "name": "stdout",
     "output_type": "stream",
     "text": [
      "Optimal Solutions:\n",
      "xge = 0.0\n",
      "xke = 425.0\n",
      "xgt = 375.0\n",
      "xkt = 25.0\n",
      "xgn = 175.0\n",
      "xkn = 0.0\n"
     ]
    }
   ],
   "source": [
    "println(\"Optimal Solutions:\")\n",
    "println(\"xge = \", value(xge))\n",
    "println(\"xke = \", value(xke))\n",
    "println(\"xgt = \", value(xgt))\n",
    "println(\"xkt = \", value(xkt))\n",
    "println(\"xgn = \", value(xgn))\n",
    "println(\"xkn = \", value(xkn))"
   ]
  }
 ],
 "metadata": {
  "kernelspec": {
   "display_name": "Python 3",
   "language": "python",
   "name": "python3"
  },
  "language_info": {
   "codemirror_mode": {
    "name": "ipython",
    "version": 3
   },
   "file_extension": ".py",
   "mimetype": "text/x-python",
   "name": "python",
   "nbconvert_exporter": "python",
   "pygments_lexer": "ipython3",
   "version": "3.8.3"
  }
 },
 "nbformat": 4,
 "nbformat_minor": 4
}
